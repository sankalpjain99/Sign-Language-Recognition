{
  "nbformat": 4,
  "nbformat_minor": 0,
  "metadata": {
    "colab": {
      "name": "recogModel.ipynb",
      "provenance": [],
      "collapsed_sections": [],
      "machine_shape": "hm"
    },
    "kernelspec": {
      "name": "python3",
      "display_name": "Python 3"
    },
    "accelerator": "GPU"
  },
  "cells": [
    {
      "cell_type": "code",
      "metadata": {
        "id": "X-iiPbLF9ZpI",
        "colab_type": "code",
        "outputId": "ea9355d0-1f58-458a-f54d-1c81daa6a607",
        "colab": {
          "base_uri": "https://localhost:8080/",
          "height": 122
        }
      },
      "source": [
        "from google.colab import drive\n",
        "drive.mount(\"/content/drive/\")"
      ],
      "execution_count": 0,
      "outputs": [
        {
          "output_type": "stream",
          "text": [
            "Go to this URL in a browser: https://accounts.google.com/o/oauth2/auth?client_id=947318989803-6bn6qk8qdgf4n4g3pfee6491hc0brc4i.apps.googleusercontent.com&redirect_uri=urn%3Aietf%3Awg%3Aoauth%3A2.0%3Aoob&scope=email%20https%3A%2F%2Fwww.googleapis.com%2Fauth%2Fdocs.test%20https%3A%2F%2Fwww.googleapis.com%2Fauth%2Fdrive%20https%3A%2F%2Fwww.googleapis.com%2Fauth%2Fdrive.photos.readonly%20https%3A%2F%2Fwww.googleapis.com%2Fauth%2Fpeopleapi.readonly&response_type=code\n",
            "\n",
            "Enter your authorization code:\n",
            "··········\n",
            "Mounted at /content/drive/\n"
          ],
          "name": "stdout"
        }
      ]
    },
    {
      "cell_type": "code",
      "metadata": {
        "id": "SdsnUO_k9hlO",
        "colab_type": "code",
        "outputId": "01eff0d5-ae28-42cd-8f07-355a48949928",
        "colab": {
          "base_uri": "https://localhost:8080/",
          "height": 34
        }
      },
      "source": [
        "import numpy as np\n",
        "from keras.layers import Conv2D, Dense, Flatten, Dropout, MaxPooling2D\n",
        "from keras.models import Sequential, save_model\n",
        "from keras.utils import np_utils\n",
        "from keras.callbacks import ModelCheckpoint\n",
        "from sklearn.model_selection import train_test_split\n",
        "from sklearn.utils import shuffle\n",
        "import os\n",
        "import cv2"
      ],
      "execution_count": 0,
      "outputs": [
        {
          "output_type": "stream",
          "text": [
            "Using TensorFlow backend.\n"
          ],
          "name": "stderr"
        }
      ]
    },
    {
      "cell_type": "code",
      "metadata": {
        "id": "oYmVA7lO-Me9",
        "colab_type": "code",
        "colab": {}
      },
      "source": [
        "X=np.load('/content/drive/My Drive/X_array.npy')\n",
        "Y=np.load('/content/drive/My Drive/Y_array.npy')"
      ],
      "execution_count": 0,
      "outputs": []
    },
    {
      "cell_type": "code",
      "metadata": {
        "id": "rN2Xi4MJAKIB",
        "colab_type": "code",
        "outputId": "9d533ce6-6ec2-419c-8a95-24f2a1473423",
        "colab": {
          "base_uri": "https://localhost:8080/",
          "height": 34
        }
      },
      "source": [
        "Y = np_utils.to_categorical(Y)\n",
        "Y.shape"
      ],
      "execution_count": 0,
      "outputs": [
        {
          "output_type": "execute_result",
          "data": {
            "text/plain": [
              "(19200, 25)"
            ]
          },
          "metadata": {
            "tags": []
          },
          "execution_count": 4
        }
      ]
    },
    {
      "cell_type": "code",
      "metadata": {
        "id": "2tbNvKJZL3QA",
        "colab_type": "code",
        "outputId": "c8afd925-0f2c-4258-e005-d34614a9cd2d",
        "colab": {
          "base_uri": "https://localhost:8080/",
          "height": 34
        }
      },
      "source": [
        "Y.shape"
      ],
      "execution_count": 0,
      "outputs": [
        {
          "output_type": "execute_result",
          "data": {
            "text/plain": [
              "(19200, 25)"
            ]
          },
          "metadata": {
            "tags": []
          },
          "execution_count": 5
        }
      ]
    },
    {
      "cell_type": "code",
      "metadata": {
        "id": "TAA81ZYHL9Hg",
        "colab_type": "code",
        "colab": {}
      },
      "source": [
        "categories = Y.shape[1]"
      ],
      "execution_count": 0,
      "outputs": []
    },
    {
      "cell_type": "code",
      "metadata": {
        "id": "szZEP3hIMB0n",
        "colab_type": "code",
        "colab": {}
      },
      "source": [
        "X, Y = shuffle(X, Y, random_state=0)"
      ],
      "execution_count": 0,
      "outputs": []
    },
    {
      "cell_type": "code",
      "metadata": {
        "id": "UiyEd3XRME_M",
        "colab_type": "code",
        "outputId": "94b0b87e-7e0b-441f-fd1a-5b33e0b3b3ac",
        "colab": {
          "base_uri": "https://localhost:8080/",
          "height": 34
        }
      },
      "source": [
        "X.shape"
      ],
      "execution_count": 0,
      "outputs": [
        {
          "output_type": "execute_result",
          "data": {
            "text/plain": [
              "(19200, 50, 50, 1)"
            ]
          },
          "metadata": {
            "tags": []
          },
          "execution_count": 8
        }
      ]
    },
    {
      "cell_type": "code",
      "metadata": {
        "id": "6sZb2FgMMHm4",
        "colab_type": "code",
        "colab": {}
      },
      "source": [
        "X_train, X_test, Y_train, Y_test = train_test_split(X, Y, test_size=0.3)"
      ],
      "execution_count": 0,
      "outputs": []
    },
    {
      "cell_type": "code",
      "metadata": {
        "id": "nk_8pQ54Mde1",
        "colab_type": "code",
        "outputId": "380108c4-bf4a-4084-cb0c-f989a78a0d92",
        "colab": {
          "base_uri": "https://localhost:8080/",
          "height": 51
        }
      },
      "source": [
        "print(X_train.shape, X_test.shape)\n",
        "print(Y_train.shape, Y_test.shape)"
      ],
      "execution_count": 0,
      "outputs": [
        {
          "output_type": "stream",
          "text": [
            "(13440, 50, 50, 1) (5760, 50, 50, 1)\n",
            "(13440, 25) (5760, 25)\n"
          ],
          "name": "stdout"
        }
      ]
    },
    {
      "cell_type": "code",
      "metadata": {
        "id": "ASjKKN-2Mguu",
        "colab_type": "code",
        "outputId": "8085d137-5117-4a83-9a22-bcd042321a0a",
        "colab": {
          "base_uri": "https://localhost:8080/",
          "height": 598
        }
      },
      "source": [
        "model = Sequential()\n",
        "model.add(Conv2D(16, kernel_size=(3,3), activation = 'relu',input_shape=(50,50 ,1) ))\n",
        "model.add(MaxPooling2D(pool_size = (2, 2)))\n",
        "\n",
        "model.add(Conv2D(32, kernel_size = (3, 3), activation = 'relu'))\n",
        "model.add(MaxPooling2D(pool_size = (2, 2)))\n",
        "\n",
        "model.add(Conv2D(64, kernel_size = (3, 3), activation = 'relu'))\n",
        "model.add(MaxPooling2D(pool_size = (2, 2)))\n",
        "\n",
        "model.add(Flatten())\n",
        "model.add(Dense(128, activation = 'relu'))\n",
        "model.add(Dropout(0.20))\n",
        "model.add(Dense(categories, activation = 'softmax'))\n",
        "\n",
        "model.summary()"
      ],
      "execution_count": 0,
      "outputs": [
        {
          "output_type": "stream",
          "text": [
            "WARNING:tensorflow:From /usr/local/lib/python3.6/dist-packages/keras/backend/tensorflow_backend.py:148: The name tf.placeholder_with_default is deprecated. Please use tf.compat.v1.placeholder_with_default instead.\n",
            "\n",
            "WARNING:tensorflow:From /usr/local/lib/python3.6/dist-packages/keras/backend/tensorflow_backend.py:3733: calling dropout (from tensorflow.python.ops.nn_ops) with keep_prob is deprecated and will be removed in a future version.\n",
            "Instructions for updating:\n",
            "Please use `rate` instead of `keep_prob`. Rate should be set to `rate = 1 - keep_prob`.\n",
            "Model: \"sequential_2\"\n",
            "_________________________________________________________________\n",
            "Layer (type)                 Output Shape              Param #   \n",
            "=================================================================\n",
            "conv2d_4 (Conv2D)            (None, 48, 48, 16)        160       \n",
            "_________________________________________________________________\n",
            "max_pooling2d_4 (MaxPooling2 (None, 24, 24, 16)        0         \n",
            "_________________________________________________________________\n",
            "conv2d_5 (Conv2D)            (None, 22, 22, 32)        4640      \n",
            "_________________________________________________________________\n",
            "max_pooling2d_5 (MaxPooling2 (None, 11, 11, 32)        0         \n",
            "_________________________________________________________________\n",
            "conv2d_6 (Conv2D)            (None, 9, 9, 64)          18496     \n",
            "_________________________________________________________________\n",
            "max_pooling2d_6 (MaxPooling2 (None, 4, 4, 64)          0         \n",
            "_________________________________________________________________\n",
            "flatten_2 (Flatten)          (None, 1024)              0         \n",
            "_________________________________________________________________\n",
            "dense_1 (Dense)              (None, 128)               131200    \n",
            "_________________________________________________________________\n",
            "dropout_1 (Dropout)          (None, 128)               0         \n",
            "_________________________________________________________________\n",
            "dense_2 (Dense)              (None, 25)                3225      \n",
            "=================================================================\n",
            "Total params: 157,721\n",
            "Trainable params: 157,721\n",
            "Non-trainable params: 0\n",
            "_________________________________________________________________\n"
          ],
          "name": "stdout"
        }
      ]
    },
    {
      "cell_type": "code",
      "metadata": {
        "id": "t1q0TkkBMj3d",
        "colab_type": "code",
        "outputId": "9a682da4-8be0-44d9-b369-7d4f2b10577e",
        "colab": {
          "base_uri": "https://localhost:8080/",
          "height": 105
        }
      },
      "source": [
        "model.compile(optimizer='Adam', metrics=['accuracy'], loss='categorical_crossentropy')"
      ],
      "execution_count": 0,
      "outputs": [
        {
          "output_type": "stream",
          "text": [
            "WARNING:tensorflow:From /usr/local/lib/python3.6/dist-packages/keras/optimizers.py:793: The name tf.train.Optimizer is deprecated. Please use tf.compat.v1.train.Optimizer instead.\n",
            "\n",
            "WARNING:tensorflow:From /usr/local/lib/python3.6/dist-packages/keras/backend/tensorflow_backend.py:3576: The name tf.log is deprecated. Please use tf.math.log instead.\n",
            "\n"
          ],
          "name": "stdout"
        }
      ]
    },
    {
      "cell_type": "code",
      "metadata": {
        "id": "1XvX_idxMqg2",
        "colab_type": "code",
        "outputId": "d50fd162-b18a-4743-a8d3-fbfa1f4927f8",
        "colab": {
          "base_uri": "https://localhost:8080/",
          "height": 1000
        }
      },
      "source": [
        "history = model.fit(X_train, Y_train, batch_size=128, epochs=50, validation_data=[X_test, Y_test])"
      ],
      "execution_count": 0,
      "outputs": [
        {
          "output_type": "stream",
          "text": [
            "WARNING:tensorflow:From /usr/local/lib/python3.6/dist-packages/tensorflow/python/ops/math_grad.py:1250: add_dispatch_support.<locals>.wrapper (from tensorflow.python.ops.array_ops) is deprecated and will be removed in a future version.\n",
            "Instructions for updating:\n",
            "Use tf.where in 2.0, which has the same broadcast rule as np.where\n",
            "Train on 13440 samples, validate on 5760 samples\n",
            "Epoch 1/50\n",
            "13440/13440 [==============================] - 9s 634us/step - loss: 0.7378 - acc: 0.8021 - val_loss: 0.0271 - val_acc: 0.9925\n",
            "Epoch 2/50\n",
            "13440/13440 [==============================] - 1s 74us/step - loss: 0.0300 - acc: 0.9919 - val_loss: 0.0039 - val_acc: 0.9995\n",
            "Epoch 3/50\n",
            "13440/13440 [==============================] - 1s 76us/step - loss: 0.0129 - acc: 0.9961 - val_loss: 0.0026 - val_acc: 0.9997\n",
            "Epoch 4/50\n",
            "13440/13440 [==============================] - 1s 75us/step - loss: 0.0093 - acc: 0.9970 - val_loss: 0.0042 - val_acc: 0.9986\n",
            "Epoch 5/50\n",
            "13440/13440 [==============================] - 1s 75us/step - loss: 0.0104 - acc: 0.9972 - val_loss: 0.0013 - val_acc: 0.9998\n",
            "Epoch 6/50\n",
            "13440/13440 [==============================] - 1s 74us/step - loss: 0.0040 - acc: 0.9987 - val_loss: 0.0014 - val_acc: 0.9993\n",
            "Epoch 7/50\n",
            "13440/13440 [==============================] - 1s 74us/step - loss: 0.0016 - acc: 0.9995 - val_loss: 4.0552e-04 - val_acc: 0.9998\n",
            "Epoch 8/50\n",
            "13440/13440 [==============================] - 1s 75us/step - loss: 0.0050 - acc: 0.9985 - val_loss: 9.7506e-04 - val_acc: 0.9998\n",
            "Epoch 9/50\n",
            "13440/13440 [==============================] - 1s 74us/step - loss: 0.0051 - acc: 0.9990 - val_loss: 1.0908e-04 - val_acc: 1.0000\n",
            "Epoch 10/50\n",
            "13440/13440 [==============================] - 1s 75us/step - loss: 0.0053 - acc: 0.9986 - val_loss: 0.0012 - val_acc: 0.9997\n",
            "Epoch 11/50\n",
            "13440/13440 [==============================] - 1s 73us/step - loss: 0.0021 - acc: 0.9995 - val_loss: 6.5902e-04 - val_acc: 0.9997\n",
            "Epoch 12/50\n",
            "13440/13440 [==============================] - 1s 73us/step - loss: 0.0019 - acc: 0.9993 - val_loss: 9.2460e-04 - val_acc: 0.9997\n",
            "Epoch 13/50\n",
            "13440/13440 [==============================] - 1s 74us/step - loss: 0.0026 - acc: 0.9992 - val_loss: 4.2062e-04 - val_acc: 0.9998\n",
            "Epoch 14/50\n",
            "13440/13440 [==============================] - 1s 74us/step - loss: 0.0016 - acc: 0.9994 - val_loss: 3.7707e-04 - val_acc: 0.9998\n",
            "Epoch 15/50\n",
            "13440/13440 [==============================] - 1s 75us/step - loss: 0.0029 - acc: 0.9992 - val_loss: 5.2432e-04 - val_acc: 0.9998\n",
            "Epoch 16/50\n",
            "13440/13440 [==============================] - 1s 75us/step - loss: 0.0014 - acc: 0.9996 - val_loss: 2.5531e-05 - val_acc: 1.0000\n",
            "Epoch 17/50\n",
            "13440/13440 [==============================] - 1s 75us/step - loss: 1.0115e-04 - acc: 1.0000 - val_loss: 7.4494e-04 - val_acc: 0.9998\n",
            "Epoch 18/50\n",
            "13440/13440 [==============================] - 1s 75us/step - loss: 9.4467e-05 - acc: 1.0000 - val_loss: 3.5334e-04 - val_acc: 0.9998\n",
            "Epoch 19/50\n",
            "13440/13440 [==============================] - 1s 74us/step - loss: 9.9073e-04 - acc: 0.9996 - val_loss: 3.8317e-04 - val_acc: 0.9998\n",
            "Epoch 20/50\n",
            "13440/13440 [==============================] - 1s 74us/step - loss: 3.9045e-04 - acc: 0.9999 - val_loss: 3.2076e-04 - val_acc: 0.9998\n",
            "Epoch 21/50\n",
            "13440/13440 [==============================] - 1s 75us/step - loss: 1.5674e-04 - acc: 0.9999 - val_loss: 2.5354e-04 - val_acc: 0.9998\n",
            "Epoch 22/50\n",
            "13440/13440 [==============================] - 1s 75us/step - loss: 4.6029e-05 - acc: 1.0000 - val_loss: 4.9562e-04 - val_acc: 0.9998\n",
            "Epoch 23/50\n",
            "13440/13440 [==============================] - 1s 74us/step - loss: 5.7089e-04 - acc: 0.9999 - val_loss: 7.3549e-04 - val_acc: 0.9998\n",
            "Epoch 24/50\n",
            "13440/13440 [==============================] - 1s 75us/step - loss: 0.0140 - acc: 0.9966 - val_loss: 0.0017 - val_acc: 0.9997\n",
            "Epoch 25/50\n",
            "13440/13440 [==============================] - 1s 76us/step - loss: 9.8974e-04 - acc: 0.9998 - val_loss: 5.6440e-04 - val_acc: 0.9998\n",
            "Epoch 26/50\n",
            "13440/13440 [==============================] - 1s 74us/step - loss: 0.0011 - acc: 0.9996 - val_loss: 6.4661e-04 - val_acc: 0.9998\n",
            "Epoch 27/50\n",
            "13440/13440 [==============================] - 1s 74us/step - loss: 1.2221e-04 - acc: 1.0000 - val_loss: 6.9649e-04 - val_acc: 0.9998\n",
            "Epoch 28/50\n",
            "13440/13440 [==============================] - 1s 74us/step - loss: 5.7697e-05 - acc: 1.0000 - val_loss: 8.1714e-04 - val_acc: 0.9998\n",
            "Epoch 29/50\n",
            "13440/13440 [==============================] - 1s 74us/step - loss: 1.8961e-04 - acc: 0.9999 - val_loss: 1.0110e-04 - val_acc: 1.0000\n",
            "Epoch 30/50\n",
            "13440/13440 [==============================] - 1s 76us/step - loss: 0.0024 - acc: 0.9994 - val_loss: 1.8462e-04 - val_acc: 1.0000\n",
            "Epoch 31/50\n",
            "13440/13440 [==============================] - 1s 74us/step - loss: 1.2366e-04 - acc: 1.0000 - val_loss: 2.7307e-05 - val_acc: 1.0000\n",
            "Epoch 32/50\n",
            "13440/13440 [==============================] - 1s 74us/step - loss: 3.1410e-05 - acc: 1.0000 - val_loss: 2.3916e-05 - val_acc: 1.0000\n",
            "Epoch 33/50\n",
            "13440/13440 [==============================] - 1s 75us/step - loss: 6.1992e-05 - acc: 1.0000 - val_loss: 1.8171e-05 - val_acc: 1.0000\n",
            "Epoch 34/50\n",
            "13440/13440 [==============================] - 1s 74us/step - loss: 2.2098e-05 - acc: 1.0000 - val_loss: 1.3619e-05 - val_acc: 1.0000\n",
            "Epoch 35/50\n",
            "13440/13440 [==============================] - 1s 74us/step - loss: 8.7598e-06 - acc: 1.0000 - val_loss: 1.1047e-05 - val_acc: 1.0000\n",
            "Epoch 36/50\n",
            "13440/13440 [==============================] - 1s 76us/step - loss: 9.6363e-04 - acc: 0.9998 - val_loss: 3.8837e-04 - val_acc: 1.0000\n",
            "Epoch 37/50\n",
            "13440/13440 [==============================] - 1s 75us/step - loss: 0.0072 - acc: 0.9979 - val_loss: 8.7792e-05 - val_acc: 1.0000\n",
            "Epoch 38/50\n",
            "13440/13440 [==============================] - 1s 74us/step - loss: 8.1417e-04 - acc: 0.9999 - val_loss: 8.6897e-05 - val_acc: 1.0000\n",
            "Epoch 39/50\n",
            "13440/13440 [==============================] - 1s 74us/step - loss: 8.3833e-05 - acc: 1.0000 - val_loss: 9.2693e-05 - val_acc: 1.0000\n",
            "Epoch 40/50\n",
            "13440/13440 [==============================] - 1s 74us/step - loss: 6.2190e-05 - acc: 1.0000 - val_loss: 9.3292e-05 - val_acc: 1.0000\n",
            "Epoch 41/50\n",
            "13440/13440 [==============================] - 1s 75us/step - loss: 1.5045e-04 - acc: 1.0000 - val_loss: 3.8181e-04 - val_acc: 0.9998\n",
            "Epoch 42/50\n",
            "13440/13440 [==============================] - 1s 75us/step - loss: 4.2092e-04 - acc: 0.9999 - val_loss: 3.5624e-05 - val_acc: 1.0000\n",
            "Epoch 43/50\n",
            "13440/13440 [==============================] - 1s 74us/step - loss: 5.2869e-04 - acc: 0.9999 - val_loss: 3.6526e-04 - val_acc: 0.9998\n",
            "Epoch 44/50\n",
            "13440/13440 [==============================] - 1s 75us/step - loss: 0.0031 - acc: 0.9993 - val_loss: 0.0083 - val_acc: 0.9967\n",
            "Epoch 45/50\n",
            "13440/13440 [==============================] - 1s 76us/step - loss: 0.0040 - acc: 0.9988 - val_loss: 6.6222e-04 - val_acc: 0.9998\n",
            "Epoch 46/50\n",
            "13440/13440 [==============================] - 1s 75us/step - loss: 2.0252e-04 - acc: 1.0000 - val_loss: 2.2790e-04 - val_acc: 0.9998\n",
            "Epoch 47/50\n",
            "13440/13440 [==============================] - 1s 75us/step - loss: 1.8167e-04 - acc: 0.9999 - val_loss: 3.5925e-04 - val_acc: 0.9998\n",
            "Epoch 48/50\n",
            "13440/13440 [==============================] - 1s 76us/step - loss: 4.3345e-05 - acc: 1.0000 - val_loss: 2.9845e-04 - val_acc: 0.9998\n",
            "Epoch 49/50\n",
            "13440/13440 [==============================] - 1s 75us/step - loss: 0.0015 - acc: 0.9996 - val_loss: 0.0061 - val_acc: 0.9979\n",
            "Epoch 50/50\n",
            "13440/13440 [==============================] - 1s 76us/step - loss: 4.0662e-04 - acc: 1.0000 - val_loss: 0.0015 - val_acc: 0.9997\n"
          ],
          "name": "stdout"
        }
      ]
    },
    {
      "cell_type": "code",
      "metadata": {
        "id": "BnoSsLFPMxrH",
        "colab_type": "code",
        "colab": {}
      },
      "source": [
        "model.save('/content/drive/My Drive/leg_model.h5')"
      ],
      "execution_count": 0,
      "outputs": []
    }
  ]
}